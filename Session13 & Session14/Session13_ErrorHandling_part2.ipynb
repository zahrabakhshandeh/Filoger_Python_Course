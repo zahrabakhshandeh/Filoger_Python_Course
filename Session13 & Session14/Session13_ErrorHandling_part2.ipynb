{
 "cells": [
  {
   "cell_type": "markdown",
   "metadata": {},
   "source": [
    "## Problem"
   ]
  },
  {
   "cell_type": "code",
   "execution_count": 5,
   "metadata": {},
   "outputs": [],
   "source": [
    "import datetime"
   ]
  },
  {
   "cell_type": "code",
   "execution_count": 2,
   "metadata": {},
   "outputs": [],
   "source": [
    "def validate_date(input_date):\n",
    "  c = input_date.count(\"-\")\n",
    "  # Check format of date\n",
    "  if c != 2 or len(input_date) != 10 or input_date[4] != \"-\" or input_date[7] != \"-\":\n",
    "    return False, \"Invalid Format (YYYY-MM-DD)\"\n",
    "  # Check if year, month, and day are all digits\n",
    "  parts = input_date.split(\"-\") # [2020, 12, 15]\n",
    "  if not (parts[0].isdigit() and parts[1].isdigit() and parts[2].isdigit()):\n",
    "    return False, \"should be numbers\"\n",
    "  # Validate the range of year, month, and day\n",
    "  year, month, day = list(map(int, parts))\n",
    "  if year < 1 or not (1 <= month <= 12) or not (1 <= day <= 31):\n",
    "    return False, \"Invalid date\"\n",
    "  return True, \"Valid date\""
   ]
  },
  {
   "cell_type": "code",
   "execution_count": 6,
   "metadata": {},
   "outputs": [
    {
     "name": "stdout",
     "output_type": "stream",
     "text": [
      "2020-10-04\n"
     ]
    }
   ],
   "source": [
    "start_date = \"2020-10-04\"\n",
    "is_valid, msg = validate_date(start_date)\n",
    "if not is_valid:\n",
    "    print(msg)\n",
    "else:\n",
    "  start_date = datetime.datetime.strptime(start_date, \"%Y-%m-%d\").date()\n",
    "  print(start_date)"
   ]
  },
  {
   "cell_type": "code",
   "execution_count": 9,
   "metadata": {},
   "outputs": [
    {
     "name": "stdout",
     "output_type": "stream",
     "text": [
      "Error!\n"
     ]
    }
   ],
   "source": [
    "start_date = \"2020-0-04\"\n",
    "try:\n",
    "  start_date = datetime.datetime.strptime(start_date, \"%Y-%m-%d\").date()\n",
    "  print(start_date)\n",
    "except:\n",
    "  print(\"Error!\")"
   ]
  },
  {
   "cell_type": "code",
   "execution_count": 10,
   "metadata": {},
   "outputs": [],
   "source": [
    "def avg():\n",
    "  num1 = 3\n",
    "  num2 = 4\n",
    "  res = (num1 + num2) / 2\n",
    "  print(res)\n",
    "  print(locals())"
   ]
  },
  {
   "cell_type": "code",
   "execution_count": 12,
   "metadata": {},
   "outputs": [
    {
     "name": "stdout",
     "output_type": "stream",
     "text": [
      "3.5\n",
      "{'num1': 3, 'num2': 4, 'res': 3.5}\n",
      "{'__name__': '__main__', '__doc__': 'Automatically created module for IPython interactive environment', '__package__': None, '__loader__': None, '__spec__': None, '__builtin__': <module 'builtins' (built-in)>, '__builtins__': <module 'builtins' (built-in)>, '_ih': ['', 'start_date = \"2020-0-04\"\\nis_valid, msg = validate_date(start_date)\\nif not is_valid:\\n    print(msg)\\nelse:\\n  start_date = datetime.datetime.strptime(start_date, \"%Y-%m-%d\").date()\\n  print(start_date)', 'def validate_date(input_date):\\n  c = input_date.count(\"-\")\\n  # Check format of date\\n  if c != 2 or len(input_date) != 10 or input_date[4] != \"-\" or input_date[7] != \"-\":\\n    return False, \"Invalid Format (YYYY-MM-DD)\"\\n  # Check if year, month, and day are all digits\\n  parts = input_date.split(\"-\") # [2020, 12, 15]\\n  if not (parts[0].isdigit() and parts[1].isdigit() and parts[2].isdigit()):\\n    return False, \"should be numbers\"\\n  # Validate the range of year, month, and day\\n  year, month, day = list(map(int, parts))\\n  if year < 1 or not (1 <= month <= 12) or not (1 <= day <= 31):\\n    return False, \"Invalid date\"\\n  return True, \"Valid date\"', 'start_date = \"2020-0-04\"\\nis_valid, msg = validate_date(start_date)\\nif not is_valid:\\n    print(msg)\\nelse:\\n  start_date = datetime.datetime.strptime(start_date, \"%Y-%m-%d\").date()\\n  print(start_date)', 'start_date = \"2020-10-04\"\\nis_valid, msg = validate_date(start_date)\\nif not is_valid:\\n    print(msg)\\nelse:\\n  start_date = datetime.datetime.strptime(start_date, \"%Y-%m-%d\").date()\\n  print(start_date)', 'import datetime', 'start_date = \"2020-10-04\"\\nis_valid, msg = validate_date(start_date)\\nif not is_valid:\\n    print(msg)\\nelse:\\n  start_date = datetime.datetime.strptime(start_date, \"%Y-%m-%d\").date()\\n  print(start_date)', 'start_date = \"2020-10-04\"\\nstart_date = datetime.datetime.strptime(start_date, \"%Y-%m-%d\").date()\\nprint(start_date)', 'start_date = \"2020-0-04\"\\nstart_date = datetime.datetime.strptime(start_date, \"%Y-%m-%d\").date()\\nprint(start_date)', 'start_date = \"2020-0-04\"\\ntry:\\n  start_date = datetime.datetime.strptime(start_date, \"%Y-%m-%d\").date()\\n  print(start_date)\\nexcept:\\n  print(\"Error!\")', 'def avg():\\n  num1 = 3\\n  num2 = 4\\n  res = (num1 + num2) / 2\\n  print(res)\\n  print(locals())', 'avg()', 'avg()\\nprint(locals())'], '_oh': {}, '_dh': ['/home/zahra/Desktop/Filoger_Python_Course/Session09 & Session10'], 'In': ['', 'start_date = \"2020-0-04\"\\nis_valid, msg = validate_date(start_date)\\nif not is_valid:\\n    print(msg)\\nelse:\\n  start_date = datetime.datetime.strptime(start_date, \"%Y-%m-%d\").date()\\n  print(start_date)', 'def validate_date(input_date):\\n  c = input_date.count(\"-\")\\n  # Check format of date\\n  if c != 2 or len(input_date) != 10 or input_date[4] != \"-\" or input_date[7] != \"-\":\\n    return False, \"Invalid Format (YYYY-MM-DD)\"\\n  # Check if year, month, and day are all digits\\n  parts = input_date.split(\"-\") # [2020, 12, 15]\\n  if not (parts[0].isdigit() and parts[1].isdigit() and parts[2].isdigit()):\\n    return False, \"should be numbers\"\\n  # Validate the range of year, month, and day\\n  year, month, day = list(map(int, parts))\\n  if year < 1 or not (1 <= month <= 12) or not (1 <= day <= 31):\\n    return False, \"Invalid date\"\\n  return True, \"Valid date\"', 'start_date = \"2020-0-04\"\\nis_valid, msg = validate_date(start_date)\\nif not is_valid:\\n    print(msg)\\nelse:\\n  start_date = datetime.datetime.strptime(start_date, \"%Y-%m-%d\").date()\\n  print(start_date)', 'start_date = \"2020-10-04\"\\nis_valid, msg = validate_date(start_date)\\nif not is_valid:\\n    print(msg)\\nelse:\\n  start_date = datetime.datetime.strptime(start_date, \"%Y-%m-%d\").date()\\n  print(start_date)', 'import datetime', 'start_date = \"2020-10-04\"\\nis_valid, msg = validate_date(start_date)\\nif not is_valid:\\n    print(msg)\\nelse:\\n  start_date = datetime.datetime.strptime(start_date, \"%Y-%m-%d\").date()\\n  print(start_date)', 'start_date = \"2020-10-04\"\\nstart_date = datetime.datetime.strptime(start_date, \"%Y-%m-%d\").date()\\nprint(start_date)', 'start_date = \"2020-0-04\"\\nstart_date = datetime.datetime.strptime(start_date, \"%Y-%m-%d\").date()\\nprint(start_date)', 'start_date = \"2020-0-04\"\\ntry:\\n  start_date = datetime.datetime.strptime(start_date, \"%Y-%m-%d\").date()\\n  print(start_date)\\nexcept:\\n  print(\"Error!\")', 'def avg():\\n  num1 = 3\\n  num2 = 4\\n  res = (num1 + num2) / 2\\n  print(res)\\n  print(locals())', 'avg()', 'avg()\\nprint(locals())'], 'Out': {}, 'get_ipython': <bound method InteractiveShell.get_ipython of <ipykernel.zmqshell.ZMQInteractiveShell object at 0x7f0e584c6040>>, 'exit': <IPython.core.autocall.ZMQExitAutocall object at 0x7f0e584c6e20>, 'quit': <IPython.core.autocall.ZMQExitAutocall object at 0x7f0e584c6e20>, '_': '', '__': '', '___': '', '__vsc_ipynb_file__': '/home/zahra/Desktop/Filoger_Python_Course/Session09 & Session10/problem.ipynb', '_i': 'avg()', '_ii': 'def avg():\\n  num1 = 3\\n  num2 = 4\\n  res = (num1 + num2) / 2\\n  print(res)\\n  print(locals())', '_iii': 'start_date = \"2020-0-04\"\\ntry:\\n  start_date = datetime.datetime.strptime(start_date, \"%Y-%m-%d\").date()\\n  print(start_date)\\nexcept:\\n  print(\"Error!\")', '_i1': 'start_date = \"2020-0-04\"\\nis_valid, msg = validate_date(start_date)\\nif not is_valid:\\n    print(msg)\\nelse:\\n  start_date = datetime.datetime.strptime(start_date, \"%Y-%m-%d\").date()\\n  print(start_date)', 'start_date': '2020-0-04', '_i2': 'def validate_date(input_date):\\n  c = input_date.count(\"-\")\\n  # Check format of date\\n  if c != 2 or len(input_date) != 10 or input_date[4] != \"-\" or input_date[7] != \"-\":\\n    return False, \"Invalid Format (YYYY-MM-DD)\"\\n  # Check if year, month, and day are all digits\\n  parts = input_date.split(\"-\") # [2020, 12, 15]\\n  if not (parts[0].isdigit() and parts[1].isdigit() and parts[2].isdigit()):\\n    return False, \"should be numbers\"\\n  # Validate the range of year, month, and day\\n  year, month, day = list(map(int, parts))\\n  if year < 1 or not (1 <= month <= 12) or not (1 <= day <= 31):\\n    return False, \"Invalid date\"\\n  return True, \"Valid date\"', 'validate_date': <function validate_date at 0x7f0e3e6c7040>, '_i3': 'start_date = \"2020-0-04\"\\nis_valid, msg = validate_date(start_date)\\nif not is_valid:\\n    print(msg)\\nelse:\\n  start_date = datetime.datetime.strptime(start_date, \"%Y-%m-%d\").date()\\n  print(start_date)', 'is_valid': True, 'msg': 'Valid date', '_i4': 'start_date = \"2020-10-04\"\\nis_valid, msg = validate_date(start_date)\\nif not is_valid:\\n    print(msg)\\nelse:\\n  start_date = datetime.datetime.strptime(start_date, \"%Y-%m-%d\").date()\\n  print(start_date)', '_i5': 'import datetime', 'datetime': <module 'datetime' from '/home/zahra/anaconda3/lib/python3.9/datetime.py'>, '_i6': 'start_date = \"2020-10-04\"\\nis_valid, msg = validate_date(start_date)\\nif not is_valid:\\n    print(msg)\\nelse:\\n  start_date = datetime.datetime.strptime(start_date, \"%Y-%m-%d\").date()\\n  print(start_date)', '_i7': 'start_date = \"2020-10-04\"\\nstart_date = datetime.datetime.strptime(start_date, \"%Y-%m-%d\").date()\\nprint(start_date)', '_i8': 'start_date = \"2020-0-04\"\\nstart_date = datetime.datetime.strptime(start_date, \"%Y-%m-%d\").date()\\nprint(start_date)', '_i9': 'start_date = \"2020-0-04\"\\ntry:\\n  start_date = datetime.datetime.strptime(start_date, \"%Y-%m-%d\").date()\\n  print(start_date)\\nexcept:\\n  print(\"Error!\")', '_i10': 'def avg():\\n  num1 = 3\\n  num2 = 4\\n  res = (num1 + num2) / 2\\n  print(res)\\n  print(locals())', 'avg': <function avg at 0x7f0e3e6700d0>, '_i11': 'avg()', '_i12': 'avg()\\nprint(locals())'}\n"
     ]
    }
   ],
   "source": [
    "avg()\n",
    "print(locals())"
   ]
  }
 ],
 "metadata": {
  "kernelspec": {
   "display_name": "base",
   "language": "python",
   "name": "python3"
  },
  "language_info": {
   "codemirror_mode": {
    "name": "ipython",
    "version": 3
   },
   "file_extension": ".py",
   "mimetype": "text/x-python",
   "name": "python",
   "nbconvert_exporter": "python",
   "pygments_lexer": "ipython3",
   "version": "3.9.13"
  },
  "orig_nbformat": 4
 },
 "nbformat": 4,
 "nbformat_minor": 2
}
